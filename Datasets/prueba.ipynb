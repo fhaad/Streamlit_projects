{
 "cells": [
  {
   "cell_type": "code",
   "execution_count": 1,
   "metadata": {},
   "outputs": [],
   "source": [
    "import pandas as pd\n"
   ]
  },
  {
   "cell_type": "code",
   "execution_count": 20,
   "metadata": {},
   "outputs": [],
   "source": [
    "dataset = pd.read_csv(r'D:\\Streamlit_projects\\Datasets\\Prueba_Streamlit_Nuevo.csv', sep=',', encoding='latin-1')"
   ]
  },
  {
   "cell_type": "code",
   "execution_count": 21,
   "metadata": {},
   "outputs": [
    {
     "data": {
      "text/html": [
       "<div>\n",
       "<style scoped>\n",
       "    .dataframe tbody tr th:only-of-type {\n",
       "        vertical-align: middle;\n",
       "    }\n",
       "\n",
       "    .dataframe tbody tr th {\n",
       "        vertical-align: top;\n",
       "    }\n",
       "\n",
       "    .dataframe thead th {\n",
       "        text-align: right;\n",
       "    }\n",
       "</style>\n",
       "<table border=\"1\" class=\"dataframe\">\n",
       "  <thead>\n",
       "    <tr style=\"text-align: right;\">\n",
       "      <th></th>\n",
       "      <th>Marca temporal</th>\n",
       "      <th>Fecha</th>\n",
       "      <th>Nombres</th>\n",
       "      <th>Facturado</th>\n",
       "      <th>Presupuesto</th>\n",
       "      <th>Ciudad</th>\n",
       "      <th>Puntuación</th>\n",
       "      <th>Latitud</th>\n",
       "      <th>Longitud</th>\n",
       "    </tr>\n",
       "  </thead>\n",
       "  <tbody>\n",
       "    <tr>\n",
       "      <th>0</th>\n",
       "      <td>8/4/2022 16:34:26</td>\n",
       "      <td>1/08/2022</td>\n",
       "      <td>Carlos Ardila</td>\n",
       "      <td>50000.0</td>\n",
       "      <td>100000.0</td>\n",
       "      <td>Bucaramanga</td>\n",
       "      <td>NaN</td>\n",
       "      <td>7.1186</td>\n",
       "      <td>-73.1161</td>\n",
       "    </tr>\n",
       "    <tr>\n",
       "      <th>1</th>\n",
       "      <td>8/4/2022 16:35:21</td>\n",
       "      <td>1/08/2022</td>\n",
       "      <td>Juan Lopez</td>\n",
       "      <td>70000.0</td>\n",
       "      <td>100000.0</td>\n",
       "      <td>Bucaramanga</td>\n",
       "      <td>NaN</td>\n",
       "      <td>7.1186</td>\n",
       "      <td>-73.1161</td>\n",
       "    </tr>\n",
       "    <tr>\n",
       "      <th>2</th>\n",
       "      <td>8/4/2022 16:35:54</td>\n",
       "      <td>1/08/2022</td>\n",
       "      <td>Rosa Cardenas</td>\n",
       "      <td>45000.0</td>\n",
       "      <td>100000.0</td>\n",
       "      <td>Bucaramanga</td>\n",
       "      <td>NaN</td>\n",
       "      <td>7.1186</td>\n",
       "      <td>-73.1161</td>\n",
       "    </tr>\n",
       "    <tr>\n",
       "      <th>3</th>\n",
       "      <td>8/4/2022 16:48:08</td>\n",
       "      <td>1/08/2022</td>\n",
       "      <td>Pedro Ruiz</td>\n",
       "      <td>80000.0</td>\n",
       "      <td>100000.0</td>\n",
       "      <td>Barrancabermeja</td>\n",
       "      <td>NaN</td>\n",
       "      <td>7.0675</td>\n",
       "      <td>-73.8472</td>\n",
       "    </tr>\n",
       "    <tr>\n",
       "      <th>4</th>\n",
       "      <td>8/4/2022 16:48:44</td>\n",
       "      <td>1/08/2022</td>\n",
       "      <td>Luisa Perez</td>\n",
       "      <td>85000.0</td>\n",
       "      <td>100000.0</td>\n",
       "      <td>Barrancabermeja</td>\n",
       "      <td>NaN</td>\n",
       "      <td>7.0675</td>\n",
       "      <td>-73.8472</td>\n",
       "    </tr>\n",
       "  </tbody>\n",
       "</table>\n",
       "</div>"
      ],
      "text/plain": [
       "      Marca temporal      Fecha        Nombres  Facturado  Presupuesto  \\\n",
       "0  8/4/2022 16:34:26  1/08/2022  Carlos Ardila    50000.0     100000.0   \n",
       "1  8/4/2022 16:35:21  1/08/2022     Juan Lopez    70000.0     100000.0   \n",
       "2  8/4/2022 16:35:54  1/08/2022  Rosa Cardenas    45000.0     100000.0   \n",
       "3  8/4/2022 16:48:08  1/08/2022     Pedro Ruiz    80000.0     100000.0   \n",
       "4  8/4/2022 16:48:44  1/08/2022    Luisa Perez    85000.0     100000.0   \n",
       "\n",
       "            Ciudad  Puntuación  Latitud  Longitud  \n",
       "0      Bucaramanga         NaN   7.1186  -73.1161  \n",
       "1      Bucaramanga         NaN   7.1186  -73.1161  \n",
       "2      Bucaramanga         NaN   7.1186  -73.1161  \n",
       "3  Barrancabermeja         NaN   7.0675  -73.8472  \n",
       "4  Barrancabermeja         NaN   7.0675  -73.8472  "
      ]
     },
     "execution_count": 21,
     "metadata": {},
     "output_type": "execute_result"
    }
   ],
   "source": [
    "dataset.head(5)"
   ]
  },
  {
   "cell_type": "code",
   "execution_count": 22,
   "metadata": {},
   "outputs": [
    {
     "data": {
      "text/plain": [
       "dtype('float64')"
      ]
     },
     "execution_count": 22,
     "metadata": {},
     "output_type": "execute_result"
    }
   ],
   "source": [
    "dataset['Latitud'].dtype"
   ]
  },
  {
   "cell_type": "code",
   "execution_count": 14,
   "metadata": {},
   "outputs": [],
   "source": [
    "dataset['Facturado'] = dataset['Facturado'].replace('$50000','50000') # con el metodo replace podemos reemplazar caracteres"
   ]
  },
  {
   "cell_type": "code",
   "execution_count": 18,
   "metadata": {},
   "outputs": [
    {
     "data": {
      "text/plain": [
       "8/4/2022 16:34:26  1/08/2022   -73.0\n",
       "8/4/2022 16:35:21  1/08/2022   -73.0\n",
       "8/4/2022 16:35:54  1/08/2022   -73.0\n",
       "8/4/2022 16:48:08  1/08/2022   -73.0\n",
       "8/4/2022 16:48:44  1/08/2022   -73.0\n",
       "                                ... \n",
       "NaN                NaN           NaN\n",
       "                   NaN           NaN\n",
       "                   NaN           NaN\n",
       "                   NaN           NaN\n",
       "                   NaN           NaN\n",
       "Name: Latitud, Length: 143, dtype: float64"
      ]
     },
     "execution_count": 18,
     "metadata": {},
     "output_type": "execute_result"
    }
   ],
   "source": [
    "dataset['Latitud']"
   ]
  },
  {
   "cell_type": "code",
   "execution_count": null,
   "metadata": {},
   "outputs": [],
   "source": [
    "# En esta linea de codigo dividimos la columna (duration) en 2 tipos, una tipo numerica y otra string\n",
    "dataset[['simbolo','Facturado_1']] = dataset['Facturado'].str.split(expand=True)"
   ]
  },
  {
   "cell_type": "code",
   "execution_count": null,
   "metadata": {},
   "outputs": [],
   "source": [
    "dataset['Latitud'] = dataset['Latitud'].replace(',','.') # con el metodo replace podemos reemplazar caracteres"
   ]
  }
 ],
 "metadata": {
  "kernelspec": {
   "display_name": "Python 3.10.10 ('env': venv)",
   "language": "python",
   "name": "python3"
  },
  "language_info": {
   "codemirror_mode": {
    "name": "ipython",
    "version": 3
   },
   "file_extension": ".py",
   "mimetype": "text/x-python",
   "name": "python",
   "nbconvert_exporter": "python",
   "pygments_lexer": "ipython3",
   "version": "3.10.10"
  },
  "orig_nbformat": 4,
  "vscode": {
   "interpreter": {
    "hash": "f7dcc0ee2eea89c78c5869c892089de1027a1eea8c439e4b91fa481a28bd4893"
   }
  }
 },
 "nbformat": 4,
 "nbformat_minor": 2
}
